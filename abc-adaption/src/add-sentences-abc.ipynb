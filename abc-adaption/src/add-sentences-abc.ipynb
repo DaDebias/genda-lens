{
 "cells": [
  {
   "attachments": {},
   "cell_type": "markdown",
   "metadata": {},
   "source": [
    "# Adapting the ABC dataset \n",
    "* The code in this script is used to add extra sentences to the ABC dataset. \n",
    "* In the original ABC dataset there are more male than female professions \n",
    "* So we would like to add female professions to the ABC to make it balanced. \n",
    "\n",
    "\n",
    "* The approach is as follows\n",
    "    * PART 1: Figuring out what to add\n",
    "        * 1.1 (Automatically) Check what professions from Winobias are not already in ABC --> save in a list \n",
    "        * 1.2 (Manually) Check if these professions exist in ABC just as another translation\n",
    "        * 1.3 Check if ABC dataset would be balanced after adding professions from winobias\n",
    "        * 1.4 Decide final list of professions to add to the ABC\n",
    "        \n",
    "    * PART 2: Adding sentences \n",
    "        * 2.1 Retrieve the 228 sentence templates from the original abc dataset \n",
    "        * 2.2 Generate new ABC sentences with the professions we wanto to include in our balanced version of the ABC dataset"
   ]
  },
  {
   "cell_type": "code",
   "execution_count": null,
   "metadata": {
    "execution": {
     "iopub.execute_input": "2023-03-02T13:06:02.569651Z",
     "iopub.status.busy": "2023-03-02T13:06:02.568961Z",
     "iopub.status.idle": "2023-03-02T13:06:02.577010Z",
     "shell.execute_reply": "2023-03-02T13:06:02.575039Z",
     "shell.execute_reply.started": "2023-03-02T13:06:02.569593Z"
    },
    "tags": []
   },
   "outputs": [],
   "source": [
    "#!pip install pandas"
   ]
  },
  {
   "cell_type": "code",
   "execution_count": null,
   "metadata": {
    "execution": {
     "iopub.execute_input": "2023-03-02T14:44:03.660700Z",
     "iopub.status.busy": "2023-03-02T14:44:03.660008Z",
     "iopub.status.idle": "2023-03-02T14:44:03.668007Z",
     "shell.execute_reply": "2023-03-02T14:44:03.666835Z",
     "shell.execute_reply.started": "2023-03-02T14:44:03.660639Z"
    },
    "tags": []
   },
   "outputs": [],
   "source": [
    "import sys, os\n",
    "import numpy as np\n",
    "import pandas as pd"
   ]
  },
  {
   "cell_type": "markdown",
   "metadata": {},
   "source": [
    "# PART 1: Figuring out what to add"
   ]
  },
  {
   "cell_type": "markdown",
   "metadata": {
    "tags": []
   },
   "source": [
    "## 1.1 Which wino professions are not in ABC?"
   ]
  },
  {
   "cell_type": "code",
   "execution_count": null,
   "metadata": {
    "execution": {
     "iopub.execute_input": "2023-03-02T14:44:03.794906Z",
     "iopub.status.busy": "2023-03-02T14:44:03.794328Z",
     "iopub.status.idle": "2023-03-02T14:44:03.838951Z",
     "shell.execute_reply": "2023-03-02T14:44:03.837622Z",
     "shell.execute_reply.started": "2023-03-02T14:44:03.794853Z"
    },
    "tags": []
   },
   "outputs": [],
   "source": [
    "path = os.getcwd()\n",
    "print(path)\n",
    "\n",
    "# load wino female\n",
    "with open(os.path.join(path, \"data\",\"wino_female.txt\"), \"r\") as p:\n",
    "    wino_female_ = p.read().splitlines()\n",
    "\n",
    "# load wino male\n",
    "with open(os.path.join(path, \"data\",\"wino_male.txt\"), \"r\") as b:\n",
    "    wino_male_ = b.read().splitlines() \n",
    "\n",
    "# load abc male \n",
    "with open(os.path.join(path, \"data\",\"abc_male.txt\"), \"r\") as f:\n",
    "    abc_male_ = f.read().splitlines() \n",
    "    \n",
    "# load abc female \n",
    "with open(os.path.join(path, \"data\",\"abc_female.txt\"), \"r\") as c:\n",
    "    abc_female_ = c.read().splitlines() \n",
    "\n",
    "wino_female = [s.strip() for s in wino_female_]\n",
    "wino_male = [s.strip() for s in wino_male_]\n",
    "abc_female = [s.strip() for s in abc_female_]\n",
    "abc_male = [s.strip() for s in abc_male_]"
   ]
  },
  {
   "cell_type": "code",
   "execution_count": null,
   "metadata": {
    "execution": {
     "iopub.execute_input": "2023-03-02T14:44:05.760847Z",
     "iopub.status.busy": "2023-03-02T14:44:05.760248Z",
     "iopub.status.idle": "2023-03-02T14:44:05.768624Z",
     "shell.execute_reply": "2023-03-02T14:44:05.767494Z",
     "shell.execute_reply.started": "2023-03-02T14:44:05.760790Z"
    },
    "tags": []
   },
   "outputs": [],
   "source": [
    "print(f\"Professions in WINOBIAS female: {len(wino_female)}, male: {len(wino_male)}, total: {len(wino_female)+len(wino_male)}\")\n",
    "print(f\"Professions in ABC female: {len(abc_female)}, male: {len(abc_male)}, total: {len(abc_female)+len(abc_male)}\")\n",
    "print(f\"Total no of professions in abc+wino: {len(wino_female)+len(wino_male)+len(abc_female)+len(abc_male)}\")"
   ]
  },
  {
   "cell_type": "markdown",
   "metadata": {},
   "source": [
    "### which professions from wino are not already in ABC?"
   ]
  },
  {
   "cell_type": "code",
   "execution_count": null,
   "metadata": {
    "execution": {
     "iopub.execute_input": "2023-03-02T14:44:06.346113Z",
     "iopub.status.busy": "2023-03-02T14:44:06.345365Z",
     "iopub.status.idle": "2023-03-02T14:44:06.356327Z",
     "shell.execute_reply": "2023-03-02T14:44:06.355273Z",
     "shell.execute_reply.started": "2023-03-02T14:44:06.346056Z"
    },
    "tags": []
   },
   "outputs": [],
   "source": [
    "female_not_in_abc = [i for i in wino_female if i not in abc_female]\n",
    "\n",
    "male_not_in_abc = [i for i in wino_male if i not in abc_male]\n",
    "\n",
    "print(len(female_not_in_abc), len(male_not_in_abc))"
   ]
  },
  {
   "cell_type": "markdown",
   "metadata": {},
   "source": [
    "### 1.2 inspect \"manually\" if they are in fact there but just been translated differently"
   ]
  },
  {
   "cell_type": "code",
   "execution_count": null,
   "metadata": {},
   "outputs": [],
   "source": [
    "print(\"missing\")\n",
    "print(male_not_in_abc)\n",
    "print(\"there\")\n",
    "print(abc_male)"
   ]
  },
  {
   "cell_type": "code",
   "execution_count": null,
   "metadata": {},
   "outputs": [],
   "source": [
    "print(\"missing\")\n",
    "print(female_not_in_abc)\n",
    "print(\"there\")\n",
    "print(abc_female)"
   ]
  },
  {
   "cell_type": "markdown",
   "metadata": {},
   "source": [
    "### making the 2 final list of what we want to add to the ABC dataset"
   ]
  },
  {
   "cell_type": "markdown",
   "metadata": {},
   "source": [
    "### 1.3 Check if ABC dataset would be balanced after adding professions from winobias"
   ]
  },
  {
   "cell_type": "code",
   "execution_count": null,
   "metadata": {
    "execution": {
     "iopub.execute_input": "2023-03-02T14:13:19.405171Z",
     "iopub.status.busy": "2023-03-02T14:13:19.404598Z",
     "iopub.status.idle": "2023-03-02T14:13:19.415480Z",
     "shell.execute_reply": "2023-03-02T14:13:19.413416Z",
     "shell.execute_reply.started": "2023-03-02T14:13:19.405118Z"
    },
    "tags": []
   },
   "outputs": [],
   "source": [
    "# extend abc data\n",
    "abc_female_extended = abc_female + female_not_in_abc\n",
    "abc_male_extended = abc_male + male_not_in_abc\n",
    "\n",
    "print(f\"Number of professions in orig abc female: {len(abc_female)}\")\n",
    "print(f\"Number of professions in orig abc male: {len(abc_male)}\")\n",
    "print(f\"Number of professions in ext. abc female: {len(abc_female_extended)}\")\n",
    "print(f\"Number of professions in ext. abc male: {len(abc_male_extended)}\")"
   ]
  },
  {
   "attachments": {},
   "cell_type": "markdown",
   "metadata": {},
   "source": [
    "### 1.4 Decide final list of professions to add to the ABC\n",
    "\n",
    "CONCLUSION: we should just generate new sentences with the female professions that are not already in ABC\n",
    "\n",
    "Based on the above numbers we choose to only add the missing professions from winobias that are female.\n",
    "In this way we will get 32 female professions, and the original abc has 34 male professions. \n",
    "In this way the new abc dataset will be approximately balanced with regards to gender. \n",
    "\n"
   ]
  },
  {
   "cell_type": "code",
   "execution_count": null,
   "metadata": {},
   "outputs": [],
   "source": [
    "# save sentences\n",
    "with open(os.path.join(path,'data', 'professions_to_add_abc.txt'),'w') as a:\n",
    "    a.write('\\n'.join(female_not_in_abc))"
   ]
  },
  {
   "cell_type": "markdown",
   "metadata": {},
   "source": [
    "# PART 2: Adding sentences \n",
    "## 2.1 Retrieving sentence templates from ABC"
   ]
  },
  {
   "cell_type": "code",
   "execution_count": 4,
   "metadata": {
    "execution": {
     "iopub.execute_input": "2023-03-02T14:26:05.426360Z",
     "iopub.status.busy": "2023-03-02T14:26:05.426040Z",
     "iopub.status.idle": "2023-03-02T14:26:05.579918Z",
     "shell.execute_reply": "2023-03-02T14:26:05.579220Z",
     "shell.execute_reply.started": "2023-03-02T14:26:05.426331Z"
    },
    "tags": []
   },
   "outputs": [
    {
     "name": "stdout",
     "output_type": "stream",
     "text": [
      "[['teknikeren', 'mistede', 'sin', 'tegnebog', 'ved', 'huset.'], ['teknikeren', 'mistede', 'hans', 'tegnebog', 'ved', 'huset.'], ['teknikeren', 'mistede', 'hendes', 'tegnebog', 'ved', 'huset.']]\n",
      "13680\n"
     ]
    }
   ],
   "source": [
    "import os\n",
    "path = os.getcwd()\n",
    "\n",
    "# load sentences from ABC into list\n",
    "sent_path = os.path.join(path, \"..\",\"data\", \"coref_lm.da\")\n",
    "\n",
    "with open(sent_path, \"r\") as g:\n",
    "    data = g.read().splitlines()\n",
    "# remove the --- from the data\n",
    "data_ = [line_.strip().split() for line_ in data if line_ != '---']\n",
    "\n",
    "print(data_[:3])\n",
    "print(len(data_))"
   ]
  },
  {
   "cell_type": "code",
   "execution_count": 5,
   "metadata": {},
   "outputs": [
    {
     "name": "stdout",
     "output_type": "stream",
     "text": [
      "228\n",
      "[['revisoren', 'mistede', 'sin', 'tegnebog', 'ved', 'huset.'], ['revisoren', 'mistede', 'hans', 'tegnebog', 'ved', 'huset.'], ['revisoren', 'mistede', 'hendes', 'tegnebog', 'ved', 'huset.'], ['revisoren', 'mister', 'sin', 'tegnebog', 'ved', 'huset.'], ['revisoren', 'mister', 'hans', 'tegnebog', 'ved', 'huset.'], ['revisoren', 'mister', 'hendes', 'tegnebog', 'ved', 'huset.'], ['revisoren', 'vaskede', 'sin', 'pensel', 'i', 'badekarret.'], ['revisoren', 'vaskede', 'hans', 'pensel', 'i', 'badekarret.'], ['revisoren', 'vaskede', 'hendes', 'pensel', 'i', 'badekarret.'], ['revisoren', 'vasker', 'sin', 'pensel', 'i', 'badekarret.']]\n"
     ]
    }
   ],
   "source": [
    "# extract 228 templates \n",
    "templates = [b for b in data_ if b[0]=='revisoren']\n",
    "print(len(templates))\n",
    "print(templates[:10])\n"
   ]
  },
  {
   "cell_type": "code",
   "execution_count": 6,
   "metadata": {},
   "outputs": [
    {
     "data": {
      "text/plain": [
       "[['[PROFESSION]', 'mistede', 'sin', 'tegnebog', 'ved', 'huset.'],\n",
       " ['[PROFESSION]', 'mistede', 'hans', 'tegnebog', 'ved', 'huset.'],\n",
       " ['[PROFESSION]', 'mistede', 'hendes', 'tegnebog', 'ved', 'huset.']]"
      ]
     },
     "execution_count": 6,
     "metadata": {},
     "output_type": "execute_result"
    }
   ],
   "source": [
    "# replace 'revisoren' with '[PROFESSION]'\n",
    "templates_adapt = []\n",
    "\n",
    "for i in templates:\n",
    "    i[0] = '[PROFESSION]'\n",
    "    templates_adapt.append(i)\n",
    "templates_adapt[:3]"
   ]
  },
  {
   "cell_type": "code",
   "execution_count": 8,
   "metadata": {},
   "outputs": [],
   "source": [
    "counter = 0\n",
    "# save 228 templates in triplets as txt file\n",
    "temp_chunks = []\n",
    "for line in templates:\n",
    "    if counter < 2:\n",
    "        temp_chunks.append(' '.join(line))\n",
    "        counter += 1\n",
    "    else:\n",
    "        temp_chunks.append(' '.join(line))\n",
    "        temp_chunks.append('---')\n",
    "        counter = 0\n",
    "\n",
    "# save templates\n",
    "with open(os.path.join(path,'..','output', 'sentence_templates_228.txt'),'w') as tfile:\n",
    "    tfile.write('\\n'.join(temp_chunks))"
   ]
  },
  {
   "attachments": {},
   "cell_type": "markdown",
   "metadata": {},
   "source": [
    "### Generate new abc dataset - with male and female sentences divided\n",
    "* There are 76 triplets and 228 sentences! \n",
    "* so for each profession you get 228 professions + 76 extra lines ('---) = 304 lines \n",
    "\n",
    "* female (abc extended): 30 professions x 304 lines = 9120 lines in the generated output txt\n",
    "* male (abc original): 30 professions x 304 lines = 9120 lines in the generated output txt\n"
   ]
  },
  {
   "cell_type": "code",
   "execution_count": 32,
   "metadata": {},
   "outputs": [],
   "source": [
    "# function for generating new sentences from a list of professions - divided in triplets (ABC style)\n",
    "def generate_sentences(professions, templates):\n",
    "    new_sents = []\n",
    "    counter = 0\n",
    "    for prof in professions:    \n",
    "        for line in templates:\n",
    "            if counter < 2:\n",
    "                line[0] = prof\n",
    "                new_sents.append(' '.join(line))\n",
    "                counter += 1\n",
    "            else:\n",
    "                line[0] = prof\n",
    "                new_sents.append(' '.join(line))\n",
    "                new_sents.append('---')\n",
    "                counter = 0\n",
    "    return new_sents"
   ]
  },
  {
   "cell_type": "code",
   "execution_count": 45,
   "metadata": {},
   "outputs": [],
   "source": [
    "# load list of professions you want to generate sentences with\n",
    "\n",
    "# abc male \n",
    "with open(os.path.join(path,'..','data','abc_male.txt'), \"r\") as b:\n",
    "    male_profs= b.read().splitlines()\n",
    "\n",
    "# abc female \n",
    "with open(os.path.join(path,'..','data','abc_female.txt'), \"r\") as b:\n",
    "    female_profs= b.read().splitlines()\n",
    "\n",
    "# professions to add to abc female \n",
    "with open(os.path.join(path,'..','data','professions_to_add_abc.txt'), \"r\") as n:\n",
    "    add_female = n.read().splitlines()\n"
   ]
  },
  {
   "cell_type": "code",
   "execution_count": 46,
   "metadata": {},
   "outputs": [
    {
     "data": {
      "text/plain": [
       "30"
      ]
     },
     "execution_count": 46,
     "metadata": {},
     "output_type": "execute_result"
    }
   ],
   "source": [
    "len(male_profs)"
   ]
  },
  {
   "cell_type": "code",
   "execution_count": 47,
   "metadata": {},
   "outputs": [
    {
     "data": {
      "text/plain": [
       "30"
      ]
     },
     "execution_count": 47,
     "metadata": {},
     "output_type": "execute_result"
    }
   ],
   "source": [
    "len(add_female+female_profs)"
   ]
  },
  {
   "cell_type": "code",
   "execution_count": 48,
   "metadata": {},
   "outputs": [
    {
     "data": {
      "text/plain": [
       "228"
      ]
     },
     "execution_count": 48,
     "metadata": {},
     "output_type": "execute_result"
    }
   ],
   "source": [
    "len(templates_adapt)"
   ]
  },
  {
   "cell_type": "code",
   "execution_count": 49,
   "metadata": {},
   "outputs": [
    {
     "name": "stdout",
     "output_type": "stream",
     "text": [
      "9120\n",
      "9120\n"
     ]
    }
   ],
   "source": [
    "# generate new abc male sentences \n",
    "abc_male = generate_sentences(male_profs, templates_adapt)\n",
    "print(len(abc_male))\n",
    "\n",
    "# generate new abc female sentences \n",
    "abc_female = generate_sentences(female_profs+add_female, templates_adapt)\n",
    "print(len(abc_female))\n"
   ]
  },
  {
   "cell_type": "code",
   "execution_count": 50,
   "metadata": {},
   "outputs": [],
   "source": [
    "# save sentences\n",
    "with open(os.path.join(path,'..','output', 'abc_male_sents.txt'),'w') as h:\n",
    "    h.write('\\n'.join(abc_male))\n",
    "\n",
    "with open(os.path.join(path,'..','output', 'abc_fem_sents.txt'),'w') as v:\n",
    "    v.write('\\n'.join(abc_female))"
   ]
  },
  {
   "cell_type": "code",
   "execution_count": null,
   "metadata": {},
   "outputs": [],
   "source": []
  }
 ],
 "metadata": {
  "kernelspec": {
   "display_name": "Python 3 ",
   "language": "python",
   "name": "python3"
  },
  "language_info": {
   "codemirror_mode": {
    "name": "ipython",
    "version": 3
   },
   "file_extension": ".py",
   "mimetype": "text/x-python",
   "name": "python",
   "nbconvert_exporter": "python",
   "pygments_lexer": "ipython3",
   "version": "3.8.16"
  },
  "vscode": {
   "interpreter": {
    "hash": "767d51c1340bd893661ea55ea3124f6de3c7a262a8b4abca0554b478b1e2ff90"
   }
  }
 },
 "nbformat": 4,
 "nbformat_minor": 4
}
