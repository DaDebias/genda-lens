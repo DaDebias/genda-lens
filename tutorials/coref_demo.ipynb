{
 "cells": [
  {
   "cell_type": "markdown",
   "metadata": {},
   "source": [
    "# Demo of Coreference Resolution Model Test"
   ]
  },
  {
   "cell_type": "markdown",
   "metadata": {},
   "source": [
    "First we define the model, that we want to test. For this demo it will be _XLM-R Coref_ - mainly becasue this is the only existing Danish coref model to our knowledge."
   ]
  },
  {
   "cell_type": "code",
   "execution_count": 1,
   "metadata": {
    "execution": {
     "iopub.execute_input": "2023-06-01T00:15:22.841276Z",
     "iopub.status.busy": "2023-06-01T00:15:22.840444Z",
     "iopub.status.idle": "2023-06-01T00:16:42.597481Z",
     "shell.execute_reply": "2023-06-01T00:16:42.594350Z",
     "shell.execute_reply.started": "2023-06-01T00:15:22.841217Z"
    },
    "tags": []
   },
   "outputs": [
    {
     "name": "stdout",
     "output_type": "stream",
     "text": [
      "PREFIX=/work/miniconda3\n",
      "Unpacking payload ...\n",
      "                                                                                \n",
      "Installing base environment...\n",
      "\n",
      "\n",
      "Downloading and Extracting Packages\n",
      "\n",
      "Preparing transaction: done\n",
      "Executing transaction: done\n",
      "installation finished.\n",
      "WARNING:\n",
      "    You currently have a PYTHONPATH environment variable set. This may cause\n",
      "    unexpected behavior when running the Python interpreter in Miniconda3.\n",
      "    For best results, please verify that your PYTHONPATH only points to\n",
      "    directories of packages that are compatible with the Python interpreter\n",
      "    in Miniconda3: /work/miniconda3\n"
     ]
    }
   ],
   "source": [
    "!bash coref_setup.sh"
   ]
  },
  {
   "cell_type": "code",
   "execution_count": 2,
   "metadata": {
    "execution": {
     "iopub.execute_input": "2023-06-01T00:16:42.611826Z",
     "iopub.status.busy": "2023-06-01T00:16:42.611658Z",
     "iopub.status.idle": "2023-06-01T00:17:29.436719Z",
     "shell.execute_reply": "2023-06-01T00:17:29.434059Z",
     "shell.execute_reply.started": "2023-06-01T00:16:42.611811Z"
    },
    "tags": []
   },
   "outputs": [
    {
     "name": "stdout",
     "output_type": "stream",
     "text": [
      "Collecting package metadata (current_repodata.json): done\n",
      "Solving environment: done\n",
      "\n",
      "\n",
      "==> WARNING: A newer version of conda exists. <==\n",
      "  current version: 22.11.1\n",
      "  latest version: 23.5.0\n",
      "\n",
      "Please update conda by running\n",
      "\n",
      "    $ conda update -n base -c conda-forge conda\n",
      "\n",
      "Or to minimize the number of packages updated during conda update use\n",
      "\n",
      "     conda install conda=23.5.0\n",
      "\n",
      "\n",
      "\n",
      "# All requested packages already installed.\n",
      "\n",
      "Requirement already satisfied: pip in /opt/conda/lib/python3.10/site-packages (23.1.2)\n",
      "Requirement already satisfied: setuptools in /opt/conda/lib/python3.10/site-packages (67.8.0)\n",
      "Requirement already satisfied: wheel in /opt/conda/lib/python3.10/site-packages (0.40.0)\n",
      "Requirement already satisfied: spacy in /opt/conda/lib/python3.10/site-packages (3.3.3)\n",
      "Collecting spacy\n",
      "  Using cached spacy-3.5.3-cp310-cp310-manylinux_2_17_x86_64.manylinux2014_x86_64.whl (6.6 MB)\n",
      "Requirement already satisfied: spacy-legacy<3.1.0,>=3.0.11 in /opt/conda/lib/python3.10/site-packages (from spacy) (3.0.12)\n",
      "Requirement already satisfied: spacy-loggers<2.0.0,>=1.0.0 in /opt/conda/lib/python3.10/site-packages (from spacy) (1.0.4)\n",
      "Requirement already satisfied: murmurhash<1.1.0,>=0.28.0 in /opt/conda/lib/python3.10/site-packages (from spacy) (1.0.9)\n",
      "Requirement already satisfied: cymem<2.1.0,>=2.0.2 in /opt/conda/lib/python3.10/site-packages (from spacy) (2.0.7)\n",
      "Requirement already satisfied: preshed<3.1.0,>=3.0.2 in /opt/conda/lib/python3.10/site-packages (from spacy) (3.0.8)\n",
      "Collecting thinc<8.2.0,>=8.1.8 (from spacy)\n",
      "  Using cached thinc-8.1.10-cp310-cp310-manylinux_2_17_x86_64.manylinux2014_x86_64.whl (913 kB)\n",
      "Requirement already satisfied: wasabi<1.2.0,>=0.9.1 in /opt/conda/lib/python3.10/site-packages (from spacy) (0.10.1)\n",
      "Requirement already satisfied: srsly<3.0.0,>=2.4.3 in /opt/conda/lib/python3.10/site-packages (from spacy) (2.4.6)\n",
      "Requirement already satisfied: catalogue<2.1.0,>=2.0.6 in /opt/conda/lib/python3.10/site-packages (from spacy) (2.0.8)\n",
      "Requirement already satisfied: typer<0.8.0,>=0.3.0 in /opt/conda/lib/python3.10/site-packages (from spacy) (0.4.2)\n",
      "Requirement already satisfied: pathy>=0.10.0 in /opt/conda/lib/python3.10/site-packages (from spacy) (0.10.1)\n",
      "Requirement already satisfied: smart-open<7.0.0,>=5.2.1 in /opt/conda/lib/python3.10/site-packages (from spacy) (6.3.0)\n",
      "Requirement already satisfied: tqdm<5.0.0,>=4.38.0 in /opt/conda/lib/python3.10/site-packages (from spacy) (4.64.1)\n",
      "Requirement already satisfied: numpy>=1.15.0 in /opt/conda/lib/python3.10/site-packages (from spacy) (1.24.1)\n",
      "Requirement already satisfied: requests<3.0.0,>=2.13.0 in /opt/conda/lib/python3.10/site-packages (from spacy) (2.28.2)\n",
      "Requirement already satisfied: pydantic!=1.8,!=1.8.1,<1.11.0,>=1.7.4 in /opt/conda/lib/python3.10/site-packages (from spacy) (1.8.2)\n",
      "Requirement already satisfied: jinja2 in /opt/conda/lib/python3.10/site-packages (from spacy) (3.1.2)\n",
      "Requirement already satisfied: setuptools in /opt/conda/lib/python3.10/site-packages (from spacy) (67.8.0)\n",
      "Requirement already satisfied: packaging>=20.0 in /opt/conda/lib/python3.10/site-packages (from spacy) (23.0)\n",
      "Requirement already satisfied: langcodes<4.0.0,>=3.2.0 in /opt/conda/lib/python3.10/site-packages (from spacy) (3.3.0)\n",
      "Requirement already satisfied: typing-extensions>=3.7.4.3 in /opt/conda/lib/python3.10/site-packages (from pydantic!=1.8,!=1.8.1,<1.11.0,>=1.7.4->spacy) (4.4.0)\n",
      "Requirement already satisfied: charset-normalizer<4,>=2 in /opt/conda/lib/python3.10/site-packages (from requests<3.0.0,>=2.13.0->spacy) (2.1.1)\n",
      "Requirement already satisfied: idna<4,>=2.5 in /opt/conda/lib/python3.10/site-packages (from requests<3.0.0,>=2.13.0->spacy) (3.4)\n",
      "Requirement already satisfied: urllib3<1.27,>=1.21.1 in /opt/conda/lib/python3.10/site-packages (from requests<3.0.0,>=2.13.0->spacy) (1.26.14)\n",
      "Requirement already satisfied: certifi>=2017.4.17 in /opt/conda/lib/python3.10/site-packages (from requests<3.0.0,>=2.13.0->spacy) (2023.5.7)\n",
      "Requirement already satisfied: blis<0.8.0,>=0.7.8 in /opt/conda/lib/python3.10/site-packages (from thinc<8.2.0,>=8.1.8->spacy) (0.7.9)\n",
      "Requirement already satisfied: confection<1.0.0,>=0.0.1 in /opt/conda/lib/python3.10/site-packages (from thinc<8.2.0,>=8.1.8->spacy) (0.0.4)\n",
      "Requirement already satisfied: click<9.0.0,>=7.1.1 in /opt/conda/lib/python3.10/site-packages (from typer<0.8.0,>=0.3.0->spacy) (8.1.3)\n",
      "Requirement already satisfied: MarkupSafe>=2.0 in /opt/conda/lib/python3.10/site-packages (from jinja2->spacy) (2.1.2)\n",
      "Installing collected packages: thinc, spacy\n",
      "  Attempting uninstall: thinc\n",
      "    Found existing installation: thinc 8.0.17\n",
      "    Uninstalling thinc-8.0.17:\n",
      "      Successfully uninstalled thinc-8.0.17\n",
      "  Attempting uninstall: spacy\n",
      "    Found existing installation: spacy 3.3.3\n",
      "    Uninstalling spacy-3.3.3:\n",
      "      Successfully uninstalled spacy-3.3.3\n",
      "\u001b[31mERROR: pip's dependency resolver does not currently take into account all the packages that are installed. This behaviour is the source of the following dependency conflicts.\n",
      "allennlp 2.10.1 requires spacy<3.4,>=2.1.0, but you have spacy 3.5.3 which is incompatible.\u001b[0m\u001b[31m\n",
      "\u001b[0mSuccessfully installed spacy-3.5.3 thinc-8.1.10\n",
      "Collecting da-core-news-sm==3.5.0\n",
      "  Downloading https://github.com/explosion/spacy-models/releases/download/da_core_news_sm-3.5.0/da_core_news_sm-3.5.0-py3-none-any.whl (12.4 MB)\n",
      "\u001b[2K     \u001b[90m━━━━━━━━━━━━━━━━━━━━━━━━━━━━━━━━━━━━━━━━\u001b[0m \u001b[32m12.4/12.4 MB\u001b[0m \u001b[31m24.1 MB/s\u001b[0m eta \u001b[36m0:00:00\u001b[0m00:01\u001b[0m0:01\u001b[0m\n",
      "\u001b[?25hRequirement already satisfied: spacy<3.6.0,>=3.5.0 in /opt/conda/lib/python3.10/site-packages (from da-core-news-sm==3.5.0) (3.5.3)\n",
      "Requirement already satisfied: spacy-legacy<3.1.0,>=3.0.11 in /opt/conda/lib/python3.10/site-packages (from spacy<3.6.0,>=3.5.0->da-core-news-sm==3.5.0) (3.0.12)\n",
      "Requirement already satisfied: spacy-loggers<2.0.0,>=1.0.0 in /opt/conda/lib/python3.10/site-packages (from spacy<3.6.0,>=3.5.0->da-core-news-sm==3.5.0) (1.0.4)\n",
      "Requirement already satisfied: murmurhash<1.1.0,>=0.28.0 in /opt/conda/lib/python3.10/site-packages (from spacy<3.6.0,>=3.5.0->da-core-news-sm==3.5.0) (1.0.9)\n",
      "Requirement already satisfied: cymem<2.1.0,>=2.0.2 in /opt/conda/lib/python3.10/site-packages (from spacy<3.6.0,>=3.5.0->da-core-news-sm==3.5.0) (2.0.7)\n",
      "Requirement already satisfied: preshed<3.1.0,>=3.0.2 in /opt/conda/lib/python3.10/site-packages (from spacy<3.6.0,>=3.5.0->da-core-news-sm==3.5.0) (3.0.8)\n",
      "Requirement already satisfied: thinc<8.2.0,>=8.1.8 in /opt/conda/lib/python3.10/site-packages (from spacy<3.6.0,>=3.5.0->da-core-news-sm==3.5.0) (8.1.10)\n",
      "Requirement already satisfied: wasabi<1.2.0,>=0.9.1 in /opt/conda/lib/python3.10/site-packages (from spacy<3.6.0,>=3.5.0->da-core-news-sm==3.5.0) (0.10.1)\n",
      "Requirement already satisfied: srsly<3.0.0,>=2.4.3 in /opt/conda/lib/python3.10/site-packages (from spacy<3.6.0,>=3.5.0->da-core-news-sm==3.5.0) (2.4.6)\n",
      "Requirement already satisfied: catalogue<2.1.0,>=2.0.6 in /opt/conda/lib/python3.10/site-packages (from spacy<3.6.0,>=3.5.0->da-core-news-sm==3.5.0) (2.0.8)\n",
      "Requirement already satisfied: typer<0.8.0,>=0.3.0 in /opt/conda/lib/python3.10/site-packages (from spacy<3.6.0,>=3.5.0->da-core-news-sm==3.5.0) (0.4.2)\n",
      "Requirement already satisfied: pathy>=0.10.0 in /opt/conda/lib/python3.10/site-packages (from spacy<3.6.0,>=3.5.0->da-core-news-sm==3.5.0) (0.10.1)\n",
      "Requirement already satisfied: smart-open<7.0.0,>=5.2.1 in /opt/conda/lib/python3.10/site-packages (from spacy<3.6.0,>=3.5.0->da-core-news-sm==3.5.0) (6.3.0)\n",
      "Requirement already satisfied: tqdm<5.0.0,>=4.38.0 in /opt/conda/lib/python3.10/site-packages (from spacy<3.6.0,>=3.5.0->da-core-news-sm==3.5.0) (4.64.1)\n",
      "Requirement already satisfied: numpy>=1.15.0 in /opt/conda/lib/python3.10/site-packages (from spacy<3.6.0,>=3.5.0->da-core-news-sm==3.5.0) (1.24.1)\n",
      "Requirement already satisfied: requests<3.0.0,>=2.13.0 in /opt/conda/lib/python3.10/site-packages (from spacy<3.6.0,>=3.5.0->da-core-news-sm==3.5.0) (2.28.2)\n",
      "Requirement already satisfied: pydantic!=1.8,!=1.8.1,<1.11.0,>=1.7.4 in /opt/conda/lib/python3.10/site-packages (from spacy<3.6.0,>=3.5.0->da-core-news-sm==3.5.0) (1.8.2)\n",
      "Requirement already satisfied: jinja2 in /opt/conda/lib/python3.10/site-packages (from spacy<3.6.0,>=3.5.0->da-core-news-sm==3.5.0) (3.1.2)\n",
      "Requirement already satisfied: setuptools in /opt/conda/lib/python3.10/site-packages (from spacy<3.6.0,>=3.5.0->da-core-news-sm==3.5.0) (67.8.0)\n",
      "Requirement already satisfied: packaging>=20.0 in /opt/conda/lib/python3.10/site-packages (from spacy<3.6.0,>=3.5.0->da-core-news-sm==3.5.0) (23.0)\n",
      "Requirement already satisfied: langcodes<4.0.0,>=3.2.0 in /opt/conda/lib/python3.10/site-packages (from spacy<3.6.0,>=3.5.0->da-core-news-sm==3.5.0) (3.3.0)\n",
      "Requirement already satisfied: typing-extensions>=3.7.4.3 in /opt/conda/lib/python3.10/site-packages (from pydantic!=1.8,!=1.8.1,<1.11.0,>=1.7.4->spacy<3.6.0,>=3.5.0->da-core-news-sm==3.5.0) (4.4.0)\n",
      "Requirement already satisfied: charset-normalizer<4,>=2 in /opt/conda/lib/python3.10/site-packages (from requests<3.0.0,>=2.13.0->spacy<3.6.0,>=3.5.0->da-core-news-sm==3.5.0) (2.1.1)\n",
      "Requirement already satisfied: idna<4,>=2.5 in /opt/conda/lib/python3.10/site-packages (from requests<3.0.0,>=2.13.0->spacy<3.6.0,>=3.5.0->da-core-news-sm==3.5.0) (3.4)\n",
      "Requirement already satisfied: urllib3<1.27,>=1.21.1 in /opt/conda/lib/python3.10/site-packages (from requests<3.0.0,>=2.13.0->spacy<3.6.0,>=3.5.0->da-core-news-sm==3.5.0) (1.26.14)\n",
      "Requirement already satisfied: certifi>=2017.4.17 in /opt/conda/lib/python3.10/site-packages (from requests<3.0.0,>=2.13.0->spacy<3.6.0,>=3.5.0->da-core-news-sm==3.5.0) (2023.5.7)\n",
      "Requirement already satisfied: blis<0.8.0,>=0.7.8 in /opt/conda/lib/python3.10/site-packages (from thinc<8.2.0,>=8.1.8->spacy<3.6.0,>=3.5.0->da-core-news-sm==3.5.0) (0.7.9)\n",
      "Requirement already satisfied: confection<1.0.0,>=0.0.1 in /opt/conda/lib/python3.10/site-packages (from thinc<8.2.0,>=8.1.8->spacy<3.6.0,>=3.5.0->da-core-news-sm==3.5.0) (0.0.4)\n",
      "Requirement already satisfied: click<9.0.0,>=7.1.1 in /opt/conda/lib/python3.10/site-packages (from typer<0.8.0,>=0.3.0->spacy<3.6.0,>=3.5.0->da-core-news-sm==3.5.0) (8.1.3)\n",
      "Requirement already satisfied: MarkupSafe>=2.0 in /opt/conda/lib/python3.10/site-packages (from jinja2->spacy<3.6.0,>=3.5.0->da-core-news-sm==3.5.0) (2.1.2)\n",
      "\u001b[38;5;2m✔ Download and installation successful\u001b[0m\n",
      "You can now load the package via spacy.load('da_core_news_sm')\n"
     ]
    }
   ],
   "source": [
    "!eval \"$(/work/miniconda3/bin/conda shell.bash hook)\"\n",
    "!conda install -c conda-forge jsonnet -y\n",
    "!pip install -U pip setuptools wheel\n",
    "!pip install -U spacy\n",
    "!python -m spacy download da_core_news_sm"
   ]
  },
  {
   "cell_type": "code",
   "execution_count": 3,
   "metadata": {
    "execution": {
     "iopub.execute_input": "2023-06-01T00:17:29.442846Z",
     "iopub.status.busy": "2023-06-01T00:17:29.442456Z",
     "iopub.status.idle": "2023-06-01T00:17:36.942872Z",
     "shell.execute_reply": "2023-06-01T00:17:36.940659Z",
     "shell.execute_reply.started": "2023-06-01T00:17:29.442808Z"
    },
    "tags": []
   },
   "outputs": [
    {
     "name": "stdout",
     "output_type": "stream",
     "text": [
      "Requirement already satisfied: torch in /opt/conda/lib/python3.10/site-packages (from -r coref_requirements.txt (line 1)) (1.12.1)\n",
      "Requirement already satisfied: allennlp in /opt/conda/lib/python3.10/site-packages (from -r coref_requirements.txt (line 2)) (2.10.1)\n",
      "Requirement already satisfied: danlp in /opt/conda/lib/python3.10/site-packages (from -r coref_requirements.txt (line 3)) (0.1.2)\n",
      "Requirement already satisfied: nltk==3.8.1 in /opt/conda/lib/python3.10/site-packages (from -r coref_requirements.txt (line 4)) (3.8.1)\n",
      "Requirement already satisfied: gensim==4.3.1 in /opt/conda/lib/python3.10/site-packages (from -r coref_requirements.txt (line 5)) (4.3.1)\n",
      "Requirement already satisfied: overrides==3.1.0 in /opt/conda/lib/python3.10/site-packages (from -r coref_requirements.txt (line 6)) (3.1.0)\n",
      "Requirement already satisfied: scikit-learn==1.2.2 in /opt/conda/lib/python3.10/site-packages (from -r coref_requirements.txt (line 7)) (1.2.2)\n",
      "Requirement already satisfied: fairlearn in /opt/conda/lib/python3.10/site-packages (from -r coref_requirements.txt (line 8)) (0.8.0)\n",
      "Requirement already satisfied: seaborn in /opt/conda/lib/python3.10/site-packages (from -r coref_requirements.txt (line 9)) (0.12.2)\n",
      "Requirement already satisfied: progressbar in /opt/conda/lib/python3.10/site-packages (from -r coref_requirements.txt (line 10)) (2.5)\n",
      "Requirement already satisfied: click in /opt/conda/lib/python3.10/site-packages (from nltk==3.8.1->-r coref_requirements.txt (line 4)) (8.1.3)\n",
      "Requirement already satisfied: joblib in /opt/conda/lib/python3.10/site-packages (from nltk==3.8.1->-r coref_requirements.txt (line 4)) (1.2.0)\n",
      "Requirement already satisfied: regex>=2021.8.3 in /opt/conda/lib/python3.10/site-packages (from nltk==3.8.1->-r coref_requirements.txt (line 4)) (2023.5.5)\n",
      "Requirement already satisfied: tqdm in /opt/conda/lib/python3.10/site-packages (from nltk==3.8.1->-r coref_requirements.txt (line 4)) (4.64.1)\n",
      "Requirement already satisfied: numpy>=1.18.5 in /opt/conda/lib/python3.10/site-packages (from gensim==4.3.1->-r coref_requirements.txt (line 5)) (1.24.1)\n",
      "Requirement already satisfied: scipy>=1.7.0 in /opt/conda/lib/python3.10/site-packages (from gensim==4.3.1->-r coref_requirements.txt (line 5)) (1.10.1)\n",
      "Requirement already satisfied: smart-open>=1.8.1 in /opt/conda/lib/python3.10/site-packages (from gensim==4.3.1->-r coref_requirements.txt (line 5)) (6.3.0)\n",
      "Requirement already satisfied: threadpoolctl>=2.0.0 in /opt/conda/lib/python3.10/site-packages (from scikit-learn==1.2.2->-r coref_requirements.txt (line 7)) (3.1.0)\n",
      "Requirement already satisfied: typing-extensions in /opt/conda/lib/python3.10/site-packages (from torch->-r coref_requirements.txt (line 1)) (4.4.0)\n",
      "Requirement already satisfied: torchvision<0.14.0,>=0.8.1 in /opt/conda/lib/python3.10/site-packages (from allennlp->-r coref_requirements.txt (line 2)) (0.13.1)\n",
      "Requirement already satisfied: cached-path<1.2.0,>=1.1.3 in /opt/conda/lib/python3.10/site-packages (from allennlp->-r coref_requirements.txt (line 2)) (1.1.6)\n",
      "Requirement already satisfied: fairscale==0.4.6 in /opt/conda/lib/python3.10/site-packages (from allennlp->-r coref_requirements.txt (line 2)) (0.4.6)\n",
      "Collecting spacy<3.4,>=2.1.0 (from allennlp->-r coref_requirements.txt (line 2))\n",
      "  Using cached spacy-3.3.3-cp310-cp310-manylinux_2_17_x86_64.manylinux2014_x86_64.whl (6.3 MB)\n",
      "Requirement already satisfied: tensorboardX>=1.2 in /opt/conda/lib/python3.10/site-packages (from allennlp->-r coref_requirements.txt (line 2)) (2.6)\n",
      "Requirement already satisfied: requests>=2.28 in /opt/conda/lib/python3.10/site-packages (from allennlp->-r coref_requirements.txt (line 2)) (2.28.2)\n",
      "Requirement already satisfied: h5py>=3.6.0 in /opt/conda/lib/python3.10/site-packages (from allennlp->-r coref_requirements.txt (line 2)) (3.8.0)\n",
      "Requirement already satisfied: pytest>=6.2.5 in /opt/conda/lib/python3.10/site-packages (from allennlp->-r coref_requirements.txt (line 2)) (7.3.1)\n",
      "Requirement already satisfied: transformers<4.21,>=4.1 in /opt/conda/lib/python3.10/site-packages (from allennlp->-r coref_requirements.txt (line 2)) (4.20.1)\n",
      "Requirement already satisfied: sentencepiece>=0.1.96 in /opt/conda/lib/python3.10/site-packages (from allennlp->-r coref_requirements.txt (line 2)) (0.1.99)\n",
      "Requirement already satisfied: filelock<3.8,>=3.3 in /opt/conda/lib/python3.10/site-packages (from allennlp->-r coref_requirements.txt (line 2)) (3.7.1)\n",
      "Requirement already satisfied: lmdb>=1.2.1 in /opt/conda/lib/python3.10/site-packages (from allennlp->-r coref_requirements.txt (line 2)) (1.4.1)\n",
      "Requirement already satisfied: more-itertools>=8.12.0 in /opt/conda/lib/python3.10/site-packages (from allennlp->-r coref_requirements.txt (line 2)) (9.1.0)\n",
      "Requirement already satisfied: termcolor==1.1.0 in /opt/conda/lib/python3.10/site-packages (from allennlp->-r coref_requirements.txt (line 2)) (1.1.0)\n",
      "Requirement already satisfied: wandb<0.13.0,>=0.10.0 in /opt/conda/lib/python3.10/site-packages (from allennlp->-r coref_requirements.txt (line 2)) (0.12.21)\n",
      "Requirement already satisfied: huggingface-hub>=0.0.16 in /opt/conda/lib/python3.10/site-packages (from allennlp->-r coref_requirements.txt (line 2)) (0.10.1)\n",
      "Requirement already satisfied: dill>=0.3.4 in /opt/conda/lib/python3.10/site-packages (from allennlp->-r coref_requirements.txt (line 2)) (0.3.6)\n",
      "Requirement already satisfied: base58>=2.1.1 in /opt/conda/lib/python3.10/site-packages (from allennlp->-r coref_requirements.txt (line 2)) (2.1.1)\n",
      "Requirement already satisfied: sacremoses in /opt/conda/lib/python3.10/site-packages (from allennlp->-r coref_requirements.txt (line 2)) (0.0.53)\n",
      "Requirement already satisfied: typer>=0.4.1 in /opt/conda/lib/python3.10/site-packages (from allennlp->-r coref_requirements.txt (line 2)) (0.4.2)\n",
      "Requirement already satisfied: protobuf<4.0.0,>=3.12.0 in /opt/conda/lib/python3.10/site-packages (from allennlp->-r coref_requirements.txt (line 2)) (3.20.3)\n",
      "Requirement already satisfied: traitlets>5.1.1 in /opt/conda/lib/python3.10/site-packages (from allennlp->-r coref_requirements.txt (line 2)) (5.9.0)\n",
      "Requirement already satisfied: jsonnet>=0.10.0 in /opt/conda/lib/python3.10/site-packages (from allennlp->-r coref_requirements.txt (line 2)) (0.20.0)\n",
      "Requirement already satisfied: conllu in /opt/conda/lib/python3.10/site-packages (from danlp->-r coref_requirements.txt (line 3)) (4.5.2)\n",
      "Requirement already satisfied: pandas in /opt/conda/lib/python3.10/site-packages (from danlp->-r coref_requirements.txt (line 3)) (1.5.3)\n",
      "Requirement already satisfied: pyconll in /opt/conda/lib/python3.10/site-packages (from danlp->-r coref_requirements.txt (line 3)) (3.1.0)\n",
      "Requirement already satisfied: tweepy in /opt/conda/lib/python3.10/site-packages (from danlp->-r coref_requirements.txt (line 3)) (4.14.0)\n",
      "Requirement already satisfied: matplotlib!=3.6.1,>=3.1 in /opt/conda/lib/python3.10/site-packages (from seaborn->-r coref_requirements.txt (line 9)) (3.6.3)\n",
      "Requirement already satisfied: rich<13.0,>=12.1 in /opt/conda/lib/python3.10/site-packages (from cached-path<1.2.0,>=1.1.3->allennlp->-r coref_requirements.txt (line 2)) (12.6.0)\n",
      "Requirement already satisfied: boto3<2.0,>=1.0 in /opt/conda/lib/python3.10/site-packages (from cached-path<1.2.0,>=1.1.3->allennlp->-r coref_requirements.txt (line 2)) (1.26.144)\n",
      "Requirement already satisfied: google-cloud-storage<3.0,>=1.32.0 in /opt/conda/lib/python3.10/site-packages (from cached-path<1.2.0,>=1.1.3->allennlp->-r coref_requirements.txt (line 2)) (2.9.0)\n",
      "Requirement already satisfied: pyyaml>=5.1 in /opt/conda/lib/python3.10/site-packages (from huggingface-hub>=0.0.16->allennlp->-r coref_requirements.txt (line 2)) (6.0)\n",
      "Requirement already satisfied: packaging>=20.9 in /opt/conda/lib/python3.10/site-packages (from huggingface-hub>=0.0.16->allennlp->-r coref_requirements.txt (line 2)) (23.0)\n",
      "Requirement already satisfied: contourpy>=1.0.1 in /opt/conda/lib/python3.10/site-packages (from matplotlib!=3.6.1,>=3.1->seaborn->-r coref_requirements.txt (line 9)) (1.0.7)\n",
      "Requirement already satisfied: cycler>=0.10 in /opt/conda/lib/python3.10/site-packages (from matplotlib!=3.6.1,>=3.1->seaborn->-r coref_requirements.txt (line 9)) (0.11.0)\n",
      "Requirement already satisfied: fonttools>=4.22.0 in /opt/conda/lib/python3.10/site-packages (from matplotlib!=3.6.1,>=3.1->seaborn->-r coref_requirements.txt (line 9)) (4.38.0)\n",
      "Requirement already satisfied: kiwisolver>=1.0.1 in /opt/conda/lib/python3.10/site-packages (from matplotlib!=3.6.1,>=3.1->seaborn->-r coref_requirements.txt (line 9)) (1.4.4)\n",
      "Requirement already satisfied: pillow>=6.2.0 in /opt/conda/lib/python3.10/site-packages (from matplotlib!=3.6.1,>=3.1->seaborn->-r coref_requirements.txt (line 9)) (9.4.0)\n",
      "Requirement already satisfied: pyparsing>=2.2.1 in /opt/conda/lib/python3.10/site-packages (from matplotlib!=3.6.1,>=3.1->seaborn->-r coref_requirements.txt (line 9)) (3.0.9)\n",
      "Requirement already satisfied: python-dateutil>=2.7 in /opt/conda/lib/python3.10/site-packages (from matplotlib!=3.6.1,>=3.1->seaborn->-r coref_requirements.txt (line 9)) (2.8.2)\n",
      "Requirement already satisfied: pytz>=2020.1 in /opt/conda/lib/python3.10/site-packages (from pandas->danlp->-r coref_requirements.txt (line 3)) (2022.7.1)\n",
      "Requirement already satisfied: iniconfig in /opt/conda/lib/python3.10/site-packages (from pytest>=6.2.5->allennlp->-r coref_requirements.txt (line 2)) (2.0.0)\n",
      "Requirement already satisfied: pluggy<2.0,>=0.12 in /opt/conda/lib/python3.10/site-packages (from pytest>=6.2.5->allennlp->-r coref_requirements.txt (line 2)) (1.0.0)\n",
      "Requirement already satisfied: exceptiongroup>=1.0.0rc8 in /opt/conda/lib/python3.10/site-packages (from pytest>=6.2.5->allennlp->-r coref_requirements.txt (line 2)) (1.1.1)\n",
      "Requirement already satisfied: tomli>=1.0.0 in /opt/conda/lib/python3.10/site-packages (from pytest>=6.2.5->allennlp->-r coref_requirements.txt (line 2)) (2.0.1)\n",
      "Requirement already satisfied: charset-normalizer<4,>=2 in /opt/conda/lib/python3.10/site-packages (from requests>=2.28->allennlp->-r coref_requirements.txt (line 2)) (2.1.1)\n",
      "Requirement already satisfied: idna<4,>=2.5 in /opt/conda/lib/python3.10/site-packages (from requests>=2.28->allennlp->-r coref_requirements.txt (line 2)) (3.4)\n",
      "Requirement already satisfied: urllib3<1.27,>=1.21.1 in /opt/conda/lib/python3.10/site-packages (from requests>=2.28->allennlp->-r coref_requirements.txt (line 2)) (1.26.14)\n",
      "Requirement already satisfied: certifi>=2017.4.17 in /opt/conda/lib/python3.10/site-packages (from requests>=2.28->allennlp->-r coref_requirements.txt (line 2)) (2023.5.7)\n",
      "Requirement already satisfied: spacy-legacy<3.1.0,>=3.0.9 in /opt/conda/lib/python3.10/site-packages (from spacy<3.4,>=2.1.0->allennlp->-r coref_requirements.txt (line 2)) (3.0.12)\n",
      "Requirement already satisfied: spacy-loggers<2.0.0,>=1.0.0 in /opt/conda/lib/python3.10/site-packages (from spacy<3.4,>=2.1.0->allennlp->-r coref_requirements.txt (line 2)) (1.0.4)\n",
      "Requirement already satisfied: murmurhash<1.1.0,>=0.28.0 in /opt/conda/lib/python3.10/site-packages (from spacy<3.4,>=2.1.0->allennlp->-r coref_requirements.txt (line 2)) (1.0.9)\n",
      "Requirement already satisfied: cymem<2.1.0,>=2.0.2 in /opt/conda/lib/python3.10/site-packages (from spacy<3.4,>=2.1.0->allennlp->-r coref_requirements.txt (line 2)) (2.0.7)\n",
      "Requirement already satisfied: preshed<3.1.0,>=3.0.2 in /opt/conda/lib/python3.10/site-packages (from spacy<3.4,>=2.1.0->allennlp->-r coref_requirements.txt (line 2)) (3.0.8)\n",
      "Collecting thinc<8.1.0,>=8.0.14 (from spacy<3.4,>=2.1.0->allennlp->-r coref_requirements.txt (line 2))\n",
      "  Using cached thinc-8.0.17-cp310-cp310-manylinux_2_17_x86_64.manylinux2014_x86_64.whl (659 kB)\n",
      "Requirement already satisfied: blis<0.8.0,>=0.4.0 in /opt/conda/lib/python3.10/site-packages (from spacy<3.4,>=2.1.0->allennlp->-r coref_requirements.txt (line 2)) (0.7.9)\n",
      "Requirement already satisfied: wasabi<1.1.0,>=0.9.1 in /opt/conda/lib/python3.10/site-packages (from spacy<3.4,>=2.1.0->allennlp->-r coref_requirements.txt (line 2)) (0.10.1)\n",
      "Requirement already satisfied: srsly<3.0.0,>=2.4.3 in /opt/conda/lib/python3.10/site-packages (from spacy<3.4,>=2.1.0->allennlp->-r coref_requirements.txt (line 2)) (2.4.6)\n",
      "Requirement already satisfied: catalogue<2.1.0,>=2.0.6 in /opt/conda/lib/python3.10/site-packages (from spacy<3.4,>=2.1.0->allennlp->-r coref_requirements.txt (line 2)) (2.0.8)\n",
      "Requirement already satisfied: pathy>=0.3.5 in /opt/conda/lib/python3.10/site-packages (from spacy<3.4,>=2.1.0->allennlp->-r coref_requirements.txt (line 2)) (0.10.1)\n",
      "Requirement already satisfied: pydantic!=1.8,!=1.8.1,<1.9.0,>=1.7.4 in /opt/conda/lib/python3.10/site-packages (from spacy<3.4,>=2.1.0->allennlp->-r coref_requirements.txt (line 2)) (1.8.2)\n",
      "Requirement already satisfied: jinja2 in /opt/conda/lib/python3.10/site-packages (from spacy<3.4,>=2.1.0->allennlp->-r coref_requirements.txt (line 2)) (3.1.2)\n",
      "Requirement already satisfied: setuptools in /opt/conda/lib/python3.10/site-packages (from spacy<3.4,>=2.1.0->allennlp->-r coref_requirements.txt (line 2)) (67.8.0)\n",
      "Requirement already satisfied: langcodes<4.0.0,>=3.2.0 in /opt/conda/lib/python3.10/site-packages (from spacy<3.4,>=2.1.0->allennlp->-r coref_requirements.txt (line 2)) (3.3.0)\n",
      "Requirement already satisfied: tokenizers!=0.11.3,<0.13,>=0.11.1 in /opt/conda/lib/python3.10/site-packages (from transformers<4.21,>=4.1->allennlp->-r coref_requirements.txt (line 2)) (0.12.1)\n",
      "Requirement already satisfied: GitPython>=1.0.0 in /opt/conda/lib/python3.10/site-packages (from wandb<0.13.0,>=0.10.0->allennlp->-r coref_requirements.txt (line 2)) (3.1.30)\n",
      "Requirement already satisfied: promise<3,>=2.0 in /opt/conda/lib/python3.10/site-packages (from wandb<0.13.0,>=0.10.0->allennlp->-r coref_requirements.txt (line 2)) (2.3)\n",
      "Requirement already satisfied: shortuuid>=0.5.0 in /opt/conda/lib/python3.10/site-packages (from wandb<0.13.0,>=0.10.0->allennlp->-r coref_requirements.txt (line 2)) (1.0.11)\n",
      "Requirement already satisfied: psutil>=5.0.0 in /opt/conda/lib/python3.10/site-packages (from wandb<0.13.0,>=0.10.0->allennlp->-r coref_requirements.txt (line 2)) (5.9.4)\n",
      "Requirement already satisfied: sentry-sdk>=1.0.0 in /opt/conda/lib/python3.10/site-packages (from wandb<0.13.0,>=0.10.0->allennlp->-r coref_requirements.txt (line 2)) (1.24.0)\n",
      "Requirement already satisfied: six>=1.13.0 in /opt/conda/lib/python3.10/site-packages (from wandb<0.13.0,>=0.10.0->allennlp->-r coref_requirements.txt (line 2)) (1.16.0)\n",
      "Requirement already satisfied: docker-pycreds>=0.4.0 in /opt/conda/lib/python3.10/site-packages (from wandb<0.13.0,>=0.10.0->allennlp->-r coref_requirements.txt (line 2)) (0.4.0)\n",
      "Requirement already satisfied: pathtools in /opt/conda/lib/python3.10/site-packages (from wandb<0.13.0,>=0.10.0->allennlp->-r coref_requirements.txt (line 2)) (0.1.2)\n",
      "Requirement already satisfied: setproctitle in /opt/conda/lib/python3.10/site-packages (from wandb<0.13.0,>=0.10.0->allennlp->-r coref_requirements.txt (line 2)) (1.3.2)\n",
      "Requirement already satisfied: oauthlib<4,>=3.2.0 in /opt/conda/lib/python3.10/site-packages (from tweepy->danlp->-r coref_requirements.txt (line 3)) (3.2.2)\n",
      "Requirement already satisfied: requests-oauthlib<2,>=1.2.0 in /opt/conda/lib/python3.10/site-packages (from tweepy->danlp->-r coref_requirements.txt (line 3)) (1.3.1)\n",
      "Requirement already satisfied: botocore<1.30.0,>=1.29.144 in /opt/conda/lib/python3.10/site-packages (from boto3<2.0,>=1.0->cached-path<1.2.0,>=1.1.3->allennlp->-r coref_requirements.txt (line 2)) (1.29.144)\n",
      "Requirement already satisfied: jmespath<2.0.0,>=0.7.1 in /opt/conda/lib/python3.10/site-packages (from boto3<2.0,>=1.0->cached-path<1.2.0,>=1.1.3->allennlp->-r coref_requirements.txt (line 2)) (1.0.1)\n",
      "Requirement already satisfied: s3transfer<0.7.0,>=0.6.0 in /opt/conda/lib/python3.10/site-packages (from boto3<2.0,>=1.0->cached-path<1.2.0,>=1.1.3->allennlp->-r coref_requirements.txt (line 2)) (0.6.1)\n",
      "Requirement already satisfied: gitdb<5,>=4.0.1 in /opt/conda/lib/python3.10/site-packages (from GitPython>=1.0.0->wandb<0.13.0,>=0.10.0->allennlp->-r coref_requirements.txt (line 2)) (4.0.10)\n",
      "Requirement already satisfied: google-auth<3.0dev,>=1.25.0 in /opt/conda/lib/python3.10/site-packages (from google-cloud-storage<3.0,>=1.32.0->cached-path<1.2.0,>=1.1.3->allennlp->-r coref_requirements.txt (line 2)) (2.19.0)\n",
      "Requirement already satisfied: google-api-core!=2.0.*,!=2.1.*,!=2.2.*,!=2.3.0,<3.0.0dev,>=1.31.5 in /opt/conda/lib/python3.10/site-packages (from google-cloud-storage<3.0,>=1.32.0->cached-path<1.2.0,>=1.1.3->allennlp->-r coref_requirements.txt (line 2)) (2.11.0)\n",
      "Requirement already satisfied: google-cloud-core<3.0dev,>=2.3.0 in /opt/conda/lib/python3.10/site-packages (from google-cloud-storage<3.0,>=1.32.0->cached-path<1.2.0,>=1.1.3->allennlp->-r coref_requirements.txt (line 2)) (2.3.2)\n",
      "Requirement already satisfied: google-resumable-media>=2.3.2 in /opt/conda/lib/python3.10/site-packages (from google-cloud-storage<3.0,>=1.32.0->cached-path<1.2.0,>=1.1.3->allennlp->-r coref_requirements.txt (line 2)) (2.5.0)\n",
      "Requirement already satisfied: commonmark<0.10.0,>=0.9.0 in /opt/conda/lib/python3.10/site-packages (from rich<13.0,>=12.1->cached-path<1.2.0,>=1.1.3->allennlp->-r coref_requirements.txt (line 2)) (0.9.1)\n",
      "Requirement already satisfied: pygments<3.0.0,>=2.6.0 in /opt/conda/lib/python3.10/site-packages (from rich<13.0,>=12.1->cached-path<1.2.0,>=1.1.3->allennlp->-r coref_requirements.txt (line 2)) (2.14.0)\n",
      "Requirement already satisfied: MarkupSafe>=2.0 in /opt/conda/lib/python3.10/site-packages (from jinja2->spacy<3.4,>=2.1.0->allennlp->-r coref_requirements.txt (line 2)) (2.1.2)\n",
      "Requirement already satisfied: smmap<6,>=3.0.1 in /opt/conda/lib/python3.10/site-packages (from gitdb<5,>=4.0.1->GitPython>=1.0.0->wandb<0.13.0,>=0.10.0->allennlp->-r coref_requirements.txt (line 2)) (5.0.0)\n",
      "Requirement already satisfied: googleapis-common-protos<2.0dev,>=1.56.2 in /opt/conda/lib/python3.10/site-packages (from google-api-core!=2.0.*,!=2.1.*,!=2.2.*,!=2.3.0,<3.0.0dev,>=1.31.5->google-cloud-storage<3.0,>=1.32.0->cached-path<1.2.0,>=1.1.3->allennlp->-r coref_requirements.txt (line 2)) (1.59.0)\n",
      "Requirement already satisfied: cachetools<6.0,>=2.0.0 in /opt/conda/lib/python3.10/site-packages (from google-auth<3.0dev,>=1.25.0->google-cloud-storage<3.0,>=1.32.0->cached-path<1.2.0,>=1.1.3->allennlp->-r coref_requirements.txt (line 2)) (5.3.1)\n",
      "Requirement already satisfied: pyasn1-modules>=0.2.1 in /opt/conda/lib/python3.10/site-packages (from google-auth<3.0dev,>=1.25.0->google-cloud-storage<3.0,>=1.32.0->cached-path<1.2.0,>=1.1.3->allennlp->-r coref_requirements.txt (line 2)) (0.3.0)\n",
      "Requirement already satisfied: rsa<5,>=3.1.4 in /opt/conda/lib/python3.10/site-packages (from google-auth<3.0dev,>=1.25.0->google-cloud-storage<3.0,>=1.32.0->cached-path<1.2.0,>=1.1.3->allennlp->-r coref_requirements.txt (line 2)) (4.9)\n",
      "Requirement already satisfied: google-crc32c<2.0dev,>=1.0 in /opt/conda/lib/python3.10/site-packages (from google-resumable-media>=2.3.2->google-cloud-storage<3.0,>=1.32.0->cached-path<1.2.0,>=1.1.3->allennlp->-r coref_requirements.txt (line 2)) (1.5.0)\n",
      "Requirement already satisfied: pyasn1<0.6.0,>=0.4.6 in /opt/conda/lib/python3.10/site-packages (from pyasn1-modules>=0.2.1->google-auth<3.0dev,>=1.25.0->google-cloud-storage<3.0,>=1.32.0->cached-path<1.2.0,>=1.1.3->allennlp->-r coref_requirements.txt (line 2)) (0.5.0)\n",
      "Installing collected packages: thinc, spacy\n",
      "  Attempting uninstall: thinc\n",
      "    Found existing installation: thinc 8.1.10\n",
      "    Uninstalling thinc-8.1.10:\n",
      "      Successfully uninstalled thinc-8.1.10\n",
      "  Attempting uninstall: spacy\n",
      "    Found existing installation: spacy 3.5.3\n",
      "    Uninstalling spacy-3.5.3:\n",
      "      Successfully uninstalled spacy-3.5.3\n",
      "\u001b[31mERROR: pip's dependency resolver does not currently take into account all the packages that are installed. This behaviour is the source of the following dependency conflicts.\n",
      "da-core-news-sm 3.5.0 requires spacy<3.6.0,>=3.5.0, but you have spacy 3.3.3 which is incompatible.\u001b[0m\u001b[31m\n",
      "\u001b[0mSuccessfully installed spacy-3.3.3 thinc-8.0.17\n"
     ]
    }
   ],
   "source": [
    "!pip install -r coref_requirements.txt "
   ]
  },
  {
   "cell_type": "code",
   "execution_count": 4,
   "metadata": {
    "execution": {
     "iopub.execute_input": "2023-06-01T00:17:36.946412Z",
     "iopub.status.busy": "2023-06-01T00:17:36.945633Z",
     "iopub.status.idle": "2023-06-01T00:17:56.878749Z",
     "shell.execute_reply": "2023-06-01T00:17:56.877564Z",
     "shell.execute_reply.started": "2023-06-01T00:17:36.946350Z"
    },
    "tags": []
   },
   "outputs": [
    {
     "name": "stderr",
     "output_type": "stream",
     "text": [
      "Some weights of the model checkpoint at xlm-roberta-base were not used when initializing XLMRobertaModel: ['lm_head.decoder.weight', 'lm_head.layer_norm.bias', 'lm_head.bias', 'lm_head.dense.weight', 'lm_head.dense.bias', 'lm_head.layer_norm.weight']\n",
      "- This IS expected if you are initializing XLMRobertaModel from the checkpoint of a model trained on another task or with another architecture (e.g. initializing a BertForSequenceClassification model from a BertForPreTraining model).\n",
      "- This IS NOT expected if you are initializing XLMRobertaModel from the checkpoint of a model that you expect to be exactly identical (initializing a BertForSequenceClassification model from a BertForSequenceClassification model).\n"
     ]
    },
    {
     "name": "stdout",
     "output_type": "stream",
     "text": [
      "Use coarse to fine: True\n"
     ]
    }
   ],
   "source": [
    "model_name = \"xlm-r coref\"\n",
    "from danlp.models import load_xlmr_coref_model\n",
    "model = load_xlmr_coref_model() "
   ]
  },
  {
   "cell_type": "markdown",
   "metadata": {},
   "source": [
    "## WinoBias Coreference Task"
   ]
  },
  {
   "cell_type": "code",
   "execution_count": 5,
   "metadata": {
    "execution": {
     "iopub.execute_input": "2023-06-01T00:18:23.910084Z",
     "iopub.status.busy": "2023-06-01T00:18:23.909301Z",
     "iopub.status.idle": "2023-06-01T00:18:23.922359Z",
     "shell.execute_reply": "2023-06-01T00:18:23.921396Z",
     "shell.execute_reply.started": "2023-06-01T00:18:23.910012Z"
    },
    "tags": []
   },
   "outputs": [
    {
     "name": "stdout",
     "output_type": "stream",
     "text": [
      "[INFO] You can test xlm-r coref by running Evaluator.evaluate_<model type>()\n"
     ]
    }
   ],
   "source": [
    "import sys\n",
    "sys.path.append(\"..\") # Adds higher directory to python modules path.\n",
    "\n",
    "# import the evaluator\n",
    "from genda_lens.genda_lens import Evaluator\n",
    "eval = Evaluator(model_name= model_name)"
   ]
  },
  {
   "cell_type": "code",
   "execution_count": 6,
   "metadata": {
    "execution": {
     "iopub.execute_input": "2023-06-01T00:18:27.414397Z",
     "iopub.status.busy": "2023-06-01T00:18:27.413757Z",
     "iopub.status.idle": "2023-06-01T00:20:00.455029Z",
     "shell.execute_reply": "2023-06-01T00:20:00.453621Z",
     "shell.execute_reply.started": "2023-06-01T00:18:27.414343Z"
    },
    "tags": []
   },
   "outputs": [
    {
     "name": "stderr",
     "output_type": "stream",
     "text": [
      "[nltk_data] Downloading package omw-1.4 to /home/ucloud/nltk_data...\n",
      "[nltk_data]   Package omw-1.4 is already up-to-date!\n",
      "/opt/conda/lib/python3.10/site-packages/spacy/util.py:837: UserWarning: [W095] Model 'da_core_news_sm' (3.5.0) was trained with spaCy v3.5 and may not be 100% compatible with the current version (3.3.3). If you see errors or degraded performance, download a newer compatible model or retrain your custom model with the current spaCy version. For more details and available updates, run: python -m spacy validate\n",
      "  warnings.warn(warn_msg)\n",
      "  0% |                                                                        |\r"
     ]
    },
    {
     "name": "stdout",
     "output_type": "stream",
     "text": [
      "[INFO] Running the DaWinobias coreference task on xlm-r coref\n"
     ]
    },
    {
     "name": "stderr",
     "output_type": "stream",
     "text": [
      "100% |########################################################################|\n",
      "100% |########################################################################|\n"
     ]
    },
    {
     "name": "stdout",
     "output_type": "stream",
     "text": [
      "[INFO] Output generated.\n"
     ]
    }
   ],
   "source": [
    "output = eval.evaluate_coref(test= \"dawinobias\", model = model)"
   ]
  },
  {
   "cell_type": "code",
   "execution_count": 7,
   "metadata": {
    "execution": {
     "iopub.execute_input": "2023-06-01T00:20:05.634412Z",
     "iopub.status.busy": "2023-06-01T00:20:05.633685Z",
     "iopub.status.idle": "2023-06-01T00:20:05.674223Z",
     "shell.execute_reply": "2023-06-01T00:20:05.672764Z",
     "shell.execute_reply.started": "2023-06-01T00:20:05.634352Z"
    },
    "tags": []
   },
   "outputs": [
    {
     "data": {
      "text/html": [
       "<div>\n",
       "<style scoped>\n",
       "    .dataframe tbody tr th:only-of-type {\n",
       "        vertical-align: middle;\n",
       "    }\n",
       "\n",
       "    .dataframe tbody tr th {\n",
       "        vertical-align: top;\n",
       "    }\n",
       "\n",
       "    .dataframe thead th {\n",
       "        text-align: right;\n",
       "    }\n",
       "</style>\n",
       "<table border=\"1\" class=\"dataframe\">\n",
       "  <thead>\n",
       "    <tr style=\"text-align: right;\">\n",
       "      <th>Detailed Output for xlm-r coref</th>\n",
       "      <th></th>\n",
       "      <th>DaWinoBias</th>\n",
       "      <th></th>\n",
       "      <th></th>\n",
       "    </tr>\n",
       "  </thead>\n",
       "  <tbody>\n",
       "    <tr>\n",
       "      <th>Gender Effect Size</th>\n",
       "      <td></td>\n",
       "      <td>-0.16</td>\n",
       "      <td></td>\n",
       "      <td></td>\n",
       "    </tr>\n",
       "    <tr>\n",
       "      <th>Condition</th>\n",
       "      <td>Anti-stereotypical</td>\n",
       "      <td></td>\n",
       "      <td>Pro-stereotypical</td>\n",
       "      <td></td>\n",
       "    </tr>\n",
       "    <tr>\n",
       "      <th>Accuracy</th>\n",
       "      <td>0.57</td>\n",
       "      <td></td>\n",
       "      <td>0.51</td>\n",
       "      <td></td>\n",
       "    </tr>\n",
       "    <tr>\n",
       "      <th>Pronouns</th>\n",
       "      <td>Female</td>\n",
       "      <td>Male</td>\n",
       "      <td>Female</td>\n",
       "      <td>Male</td>\n",
       "    </tr>\n",
       "    <tr>\n",
       "      <th>F1</th>\n",
       "      <td>0.51</td>\n",
       "      <td>0.62</td>\n",
       "      <td>0.4</td>\n",
       "      <td>0.59</td>\n",
       "    </tr>\n",
       "  </tbody>\n",
       "</table>\n",
       "</div>"
      ],
      "text/plain": [
       "Detailed Output for xlm-r coref                     DaWinoBias  \\\n",
       "Gender Effect Size                                       -0.16   \n",
       "Condition                        Anti-stereotypical              \n",
       "Accuracy                                       0.57              \n",
       "Pronouns                                     Female       Male   \n",
       "F1                                             0.51       0.62   \n",
       "\n",
       "Detailed Output for xlm-r coref                           \n",
       "Gender Effect Size                                        \n",
       "Condition                        Pro-stereotypical        \n",
       "Accuracy                                      0.51        \n",
       "Pronouns                                    Female  Male  \n",
       "F1                                             0.4  0.59  "
      ]
     },
     "execution_count": 7,
     "metadata": {},
     "output_type": "execute_result"
    }
   ],
   "source": [
    "# save output in two variables\n",
    "condensed_output, detailed_output = output[0], output[1]\n",
    "detailed_output"
   ]
  },
  {
   "cell_type": "code",
   "execution_count": 9,
   "metadata": {
    "execution": {
     "iopub.execute_input": "2023-06-01T00:20:32.613372Z",
     "iopub.status.busy": "2023-06-01T00:20:32.612643Z",
     "iopub.status.idle": "2023-06-01T00:20:34.720530Z",
     "shell.execute_reply": "2023-06-01T00:20:34.719308Z",
     "shell.execute_reply.started": "2023-06-01T00:20:32.613312Z"
    },
    "tags": []
   },
   "outputs": [],
   "source": [
    "#get the visualizer\n",
    "from genda_lens.genda_lens import Visualizer\n",
    "viz = Visualizer()"
   ]
  },
  {
   "cell_type": "code",
   "execution_count": 11,
   "metadata": {
    "execution": {
     "iopub.execute_input": "2023-06-01T00:21:04.819723Z",
     "iopub.status.busy": "2023-06-01T00:21:04.819016Z",
     "iopub.status.idle": "2023-06-01T00:21:05.775792Z",
     "shell.execute_reply": "2023-06-01T00:21:05.774968Z",
     "shell.execute_reply.started": "2023-06-01T00:21:04.819664Z"
    },
    "tags": []
   },
   "outputs": [
    {
     "data": {
      "image/png": "[encoded data removed]",
      "text/plain": [
       "<Figure size 640x480 with 1 Axes>"
      ]
     },
     "metadata": {},
     "output_type": "display_data"
    }
   ],
   "source": [
    "plot_wino = viz.visualize_results(detailed_output, \n",
    "                                  framework =\"dawinobias\", \n",
    "                                  model_name = model_name, \n",
    "                                  task = \"coref\")\n"
   ]
  },
  {
   "cell_type": "markdown",
   "metadata": {},
   "source": [
    "## ABC Coreference Task"
   ]
  },
  {
   "cell_type": "markdown",
   "metadata": {},
   "source": [
    "Since we have already specified model name and the evaluator class and the visualizer, we can just go ahead. "
   ]
  },
  {
   "cell_type": "code",
   "execution_count": 13,
   "metadata": {
    "execution": {
     "iopub.execute_input": "2023-06-01T00:21:31.988919Z",
     "iopub.status.busy": "2023-06-01T00:21:31.988287Z",
     "iopub.status.idle": "2023-06-01T00:28:44.213912Z",
     "shell.execute_reply": "2023-06-01T00:28:44.212872Z",
     "shell.execute_reply.started": "2023-06-01T00:21:31.988866Z"
    },
    "tags": []
   },
   "outputs": [
    {
     "name": "stderr",
     "output_type": "stream",
     "text": [
      "  0% |                                                                        |\r"
     ]
    },
    {
     "name": "stdout",
     "output_type": "stream",
     "text": [
      "[INFO] Running the ABC coreference task on xlm-r coref\n"
     ]
    },
    {
     "name": "stderr",
     "output_type": "stream",
     "text": [
      "100% |########################################################################|\n",
      "100% |########################################################################|\r"
     ]
    },
    {
     "name": "stdout",
     "output_type": "stream",
     "text": [
      "[INFO] Output generated.\n"
     ]
    },
    {
     "name": "stderr",
     "output_type": "stream",
     "text": [
      "\n"
     ]
    }
   ],
   "source": [
    "output_abc = eval.evaluate_coref(test=\"abc\", model = model)"
   ]
  },
  {
   "cell_type": "code",
   "execution_count": 14,
   "metadata": {
    "execution": {
     "iopub.execute_input": "2023-06-01T00:29:08.273327Z",
     "iopub.status.busy": "2023-06-01T00:29:08.272624Z",
     "iopub.status.idle": "2023-06-01T00:29:08.295093Z",
     "shell.execute_reply": "2023-06-01T00:29:08.294095Z",
     "shell.execute_reply.started": "2023-06-01T00:29:08.273270Z"
    },
    "tags": []
   },
   "outputs": [
    {
     "data": {
      "text/html": [
       "<div>\n",
       "<style scoped>\n",
       "    .dataframe tbody tr th:only-of-type {\n",
       "        vertical-align: middle;\n",
       "    }\n",
       "\n",
       "    .dataframe tbody tr th {\n",
       "        vertical-align: top;\n",
       "    }\n",
       "\n",
       "    .dataframe thead th {\n",
       "        text-align: right;\n",
       "    }\n",
       "</style>\n",
       "<table border=\"1\" class=\"dataframe\">\n",
       "  <thead>\n",
       "    <tr style=\"text-align: right;\">\n",
       "      <th>Detailed Output for xlm-r coref</th>\n",
       "      <th></th>\n",
       "      <th></th>\n",
       "      <th>ABC</th>\n",
       "      <th></th>\n",
       "      <th></th>\n",
       "      <th></th>\n",
       "    </tr>\n",
       "  </thead>\n",
       "  <tbody>\n",
       "    <tr>\n",
       "      <th>Gender Effect Size</th>\n",
       "      <td></td>\n",
       "      <td></td>\n",
       "      <td>0.03</td>\n",
       "      <td></td>\n",
       "      <td></td>\n",
       "      <td></td>\n",
       "    </tr>\n",
       "    <tr>\n",
       "      <th>Pronoun</th>\n",
       "      <td></td>\n",
       "      <td>Female</td>\n",
       "      <td></td>\n",
       "      <td>Male</td>\n",
       "      <td></td>\n",
       "      <td>Reflexive</td>\n",
       "    </tr>\n",
       "    <tr>\n",
       "      <th>Mean Rate of Detected Clusters</th>\n",
       "      <td></td>\n",
       "      <td>0.88114</td>\n",
       "      <td></td>\n",
       "      <td>0.902193</td>\n",
       "      <td></td>\n",
       "      <td>0.966886</td>\n",
       "    </tr>\n",
       "    <tr>\n",
       "      <th>Stereotypical Occupation</th>\n",
       "      <td>Female</td>\n",
       "      <td>Male</td>\n",
       "      <td>Female</td>\n",
       "      <td>Male</td>\n",
       "      <td>Female</td>\n",
       "      <td>Male</td>\n",
       "    </tr>\n",
       "    <tr>\n",
       "      <th>Rate of Detected Clusters</th>\n",
       "      <td>0.93114</td>\n",
       "      <td>0.83114</td>\n",
       "      <td>0.884211</td>\n",
       "      <td>0.920175</td>\n",
       "      <td>0.967544</td>\n",
       "      <td>0.966228</td>\n",
       "    </tr>\n",
       "  </tbody>\n",
       "</table>\n",
       "</div>"
      ],
      "text/plain": [
       "Detailed Output for xlm-r coref                         ABC            \\\n",
       "Gender Effect Size                                     0.03             \n",
       "Pronoun                                    Female                Male   \n",
       "Mean Rate of Detected Clusters            0.88114            0.902193   \n",
       "Stereotypical Occupation          Female     Male    Female      Male   \n",
       "Rate of Detected Clusters        0.93114  0.83114  0.884211  0.920175   \n",
       "\n",
       "Detailed Output for xlm-r coref                       \n",
       "Gender Effect Size                                    \n",
       "Pronoun                                    Reflexive  \n",
       "Mean Rate of Detected Clusters              0.966886  \n",
       "Stereotypical Occupation           Female       Male  \n",
       "Rate of Detected Clusters        0.967544   0.966228  "
      ]
     },
     "execution_count": 14,
     "metadata": {},
     "output_type": "execute_result"
    }
   ],
   "source": [
    "simple_output, detailed_output = output_abc[0], output_abc[1]\n",
    "detailed_output"
   ]
  },
  {
   "cell_type": "code",
   "execution_count": 16,
   "metadata": {
    "execution": {
     "iopub.execute_input": "2023-06-01T00:30:34.781048Z",
     "iopub.status.busy": "2023-06-01T00:30:34.780411Z",
     "iopub.status.idle": "2023-06-01T00:30:35.098159Z",
     "shell.execute_reply": "2023-06-01T00:30:35.097439Z",
     "shell.execute_reply.started": "2023-06-01T00:30:34.780995Z"
    },
    "tags": []
   },
   "outputs": [
    {
     "data": {
      "text/plain": [
       "<matplotlib.legend.Legend at 0x7fa494eab820>"
      ]
     },
     "execution_count": 16,
     "metadata": {},
     "output_type": "execute_result"
    },
    {
     "data": {
      "image/png": "[encoded data removed]",
      "text/plain": [
       "<Figure size 640x480 with 1 Axes>"
      ]
     },
     "metadata": {},
     "output_type": "display_data"
    }
   ],
   "source": [
    "plot_abc = viz.visualize_results(detailed_output, framework =\"abc\", model_name = model_name, task = \"coref\")\n",
    "plot_abc.legend(bbox_to_anchor=(1.02, 1), loc='upper left', borderaxespad=0)"
   ]
  },
  {
   "cell_type": "code",
   "execution_count": null,
   "metadata": {},
   "outputs": [],
   "source": []
  }
 ],
 "metadata": {
  "kernelspec": {
   "display_name": "Python 3 ",
   "language": "python",
   "name": "python3"
  },
  "language_info": {
   "codemirror_mode": {
    "name": "ipython",
    "version": 3
   },
   "file_extension": ".py",
   "mimetype": "text/x-python",
   "name": "python",
   "nbconvert_exporter": "python",
   "pygments_lexer": "ipython3",
   "version": "3.10.8"
  },
  "vscode": {
   "interpreter": {
    "hash": "767d51c1340bd893661ea55ea3124f6de3c7a262a8b4abca0554b478b1e2ff90"
   }
  }
 },
 "nbformat": 4,
 "nbformat_minor": 4
}
