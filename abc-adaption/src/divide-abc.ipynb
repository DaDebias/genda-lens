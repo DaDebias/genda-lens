{
 "cells": [
  {
   "attachments": {},
   "cell_type": "markdown",
   "metadata": {},
   "source": [
    "dat# Divide ABC professions\n",
    "* The code in this script is used to divide the professions in the ABC dataset into two portions: male and female. \n",
    "\n",
    "* Firstly, it uses the knowledge from the Winobias a set to assign gender to the professions that are in that corpus, and for which we therefore know the gender \n",
    "\n",
    "* Then a Danish wordembeddings is used to assign gender to the remaining professions in the ABC corpus\n",
    "\n",
    "* It makes use of the following embedding:\n",
    "https://sprogteknologi.dk/dataset/danish-dsl-and-reddit-word2vec-word-embeddings \n",
    "\n",
    "* The script uses a set of definitional gender pairs (e.g. han/hun, mand/kvinde etc.) and computes PCA to find a \"gender direction\" which representes the difference between the male and female gender in the word embedding. This approach is inspired by Bolukbasi 2016\n",
    "\n",
    "* It then computes the cosine similarity between the professions and this gender direction. \n",
    "* The professions that are the most similar to the profession are said to be male skewed.\n",
    "* Using common sense a decision boundary is picked and in this way the remaining part of the dataset is divided in two."
   ]
  },
  {
   "cell_type": "code",
   "execution_count": null,
   "metadata": {
    "execution": {
     "iopub.execute_input": "2023-03-02T13:06:02.569651Z",
     "iopub.status.busy": "2023-03-02T13:06:02.568961Z",
     "iopub.status.idle": "2023-03-02T13:06:02.577010Z",
     "shell.execute_reply": "2023-03-02T13:06:02.575039Z",
     "shell.execute_reply.started": "2023-03-02T13:06:02.569593Z"
    },
    "tags": []
   },
   "outputs": [],
   "source": [
    "#!pip install openpyxl\n",
    "#!pip install pandas\n",
    "#!pip install gensim\n",
    "#!pip install scikit-learn\n",
    "#!pip install matplotlib"
   ]
  },
  {
   "cell_type": "code",
   "execution_count": null,
   "metadata": {
    "execution": {
     "iopub.execute_input": "2023-03-02T14:44:03.660700Z",
     "iopub.status.busy": "2023-03-02T14:44:03.660008Z",
     "iopub.status.idle": "2023-03-02T14:44:03.668007Z",
     "shell.execute_reply": "2023-03-02T14:44:03.666835Z",
     "shell.execute_reply.started": "2023-03-02T14:44:03.660639Z"
    },
    "tags": []
   },
   "outputs": [],
   "source": [
    "import sys, os\n",
    "import numpy as np\n",
    "import pandas as pd\n",
    "from sklearn.decomposition import PCA\n",
    "import json\n",
    "import matplotlib.pyplot as plt\n",
    "plt.style.use(\"seaborn\")\n"
   ]
  },
  {
   "cell_type": "markdown",
   "metadata": {},
   "source": [
    "## Use Winobias to assign gender to the professions we know"
   ]
  },
  {
   "cell_type": "code",
   "execution_count": null,
   "metadata": {},
   "outputs": [],
   "source": [
    "# load abc  \n",
    "with open(os.path.join(os.getcwd(), \"..\",\"data\",\"abc_all.txt\"), \"r\") as f:\n",
    "    abc_ = f.read().splitlines()\n",
    "\n",
    "abc = [b.strip() for b in abc_]    "
   ]
  },
  {
   "cell_type": "code",
   "execution_count": null,
   "metadata": {},
   "outputs": [],
   "source": [
    "len(abc)"
   ]
  },
  {
   "cell_type": "code",
   "execution_count": null,
   "metadata": {},
   "outputs": [],
   "source": [
    "# load wino female\n",
    "with open(os.path.join(os.getcwd(), \"..\",\"data\",\"wino_fem.txt\"), \"r\") as p:\n",
    "    wino_female_ = p.read().splitlines() \n",
    "\n",
    "# load wino male\n",
    "with open(os.path.join(os.getcwd(), \"..\",\"data\",\"wino_male.txt\"), \"r\") as b:\n",
    "    wino_male_ = b.read().splitlines() \n",
    "\n",
    "# load abc  \n",
    "with open(os.path.join(os.getcwd(), \"..\",\"data\",\"abc_all.txt\"), \"r\") as f:\n",
    "    abc_ = f.read().splitlines()\n",
    "\n",
    "wino_female = [s.strip() for s in wino_female_]\n",
    "wino_male = [g.strip() for g in wino_male_]\n",
    "abc = [b.strip() for b in abc_]    "
   ]
  },
  {
   "cell_type": "code",
   "execution_count": null,
   "metadata": {},
   "outputs": [],
   "source": [
    "female_abc = [i for i in abc if i in wino_female]\n",
    "male_abc = [i for i in abc if i in wino_male]\n",
    "\n",
    "print(\"male:\")\n",
    "print(male_abc)\n",
    "\n",
    "print(\"female:\")\n",
    "print(female_abc)"
   ]
  },
  {
   "cell_type": "code",
   "execution_count": null,
   "metadata": {},
   "outputs": [],
   "source": [
    "remaining_ = [i for i in abc if i not in female_abc + male_abc]\n",
    "len(remaining_)"
   ]
  },
  {
   "cell_type": "markdown",
   "metadata": {},
   "source": [
    "## Divide remaining 41 ABC professions using wordembedding"
   ]
  },
  {
   "cell_type": "code",
   "execution_count": null,
   "metadata": {
    "execution": {
     "iopub.execute_input": "2023-03-02T15:10:14.609634Z",
     "iopub.status.busy": "2023-03-02T15:10:14.608936Z",
     "iopub.status.idle": "2023-03-02T15:10:14.745031Z",
     "shell.execute_reply": "2023-03-02T15:10:14.743720Z",
     "shell.execute_reply.started": "2023-03-02T15:10:14.609579Z"
    },
    "tags": []
   },
   "outputs": [],
   "source": [
    "from gensim import models\n",
    "model_path = \"/work/cool-programmer-astrid/dsl_skipgram_2020_m5_f500_epoch2_w5.model.txtvectors\" \n",
    "\n",
    "# load word embedding from txt  \n",
    "emb_model = models.KeyedVectors.load_word2vec_format(model_path, binary=False, unicode_errors='replace')\n"
   ]
  },
  {
   "cell_type": "code",
   "execution_count": null,
   "metadata": {},
   "outputs": [],
   "source": [
    "# check if words are in model vocab \n",
    "remaining = [w for w in remaining_ if w in emb_model.key_to_index]\n",
    "print(len(remaining_), len(remaining))"
   ]
  },
  {
   "cell_type": "code",
   "execution_count": null,
   "metadata": {},
   "outputs": [],
   "source": [
    "print(\"Profession not existing in the word embedding:\")\n",
    "[item for item in remaining_ if item not in remaining]\n"
   ]
  },
  {
   "cell_type": "code",
   "execution_count": null,
   "metadata": {},
   "outputs": [],
   "source": [
    "# test that profession word vectors are not just filled with zeroes - but have a vector\n",
    "#for i in abc:\n",
    "#    print(emb_model[i][:5])"
   ]
  },
  {
   "cell_type": "markdown",
   "metadata": {},
   "source": [
    "### Compute the gender direction"
   ]
  },
  {
   "cell_type": "code",
   "execution_count": null,
   "metadata": {},
   "outputs": [],
   "source": [
    "definitional_filename = os.path.join(path, \"data\",\"da_definitional_pairs.json\")\n",
    "\n",
    "# load definitional gender pairs\n",
    "with open(definitional_filename, \"r\") as f:\n",
    "    definitional = json.load(f)"
   ]
  },
  {
   "cell_type": "code",
   "execution_count": null,
   "metadata": {},
   "outputs": [],
   "source": [
    "def doPCA(pairs, embedding, num_components = 0.95):\n",
    "    '''\n",
    "    Function for doing PCA on the difference vectors from the definitional gender pairs.\n",
    "    '''\n",
    "    matrix = []\n",
    "    for a, b in pairs:\n",
    "        center = (embedding[a] + embedding[b])/2\n",
    "        matrix.append(embedding[a] - center)\n",
    "        matrix.append(embedding[b] - center)\n",
    "    matrix = np.array(matrix)\n",
    "    pca = PCA(n_components = num_components)\n",
    "    pca.fit(matrix)\n",
    "    return pca\n",
    "   \n",
    "def plotPCA(pca, n_components):\n",
    "    plt.bar(range(pca.n_components_), pca.explained_variance_ratio_, color = \"seagreen\")\n",
    "    plt.title(f\"PCA: Gender direction\", fontsize=20)\n",
    "    plt.ylim([0.0, 0.7])\n",
    "    plt.xlabel(\"PCA components\", fontsize=22)\n",
    "    plt.ylabel(\"Explained variance\", fontsize=22)\n",
    "    print (\"PCA plot saved to output folder\")\n",
    "    plt.savefig(os.path.join(path, \"output\", \"pca_plot.png\"))\n",
    "    "
   ]
  },
  {
   "cell_type": "code",
   "execution_count": null,
   "metadata": {},
   "outputs": [],
   "source": [
    "# do PCA analysis\n",
    "pca = doPCA(definitional, emb_model, num_components=10)\n",
    "    \n",
    "# plot PCA\n",
    "plotPCA(pca, n_components=0.95)\n",
    "\n",
    "# get gender direction as csv file\n",
    "gender_direction = pca.components_[0]\n",
    "\n",
    "#save gender subspace\n",
    "#np.savetxt(os.path.join(os.getcwd(), \"..\", \"output\", f\"{model_alias}_gender_subspace.csv\"), gender_direction, delimiter=',')\n"
   ]
  },
  {
   "cell_type": "code",
   "execution_count": null,
   "metadata": {},
   "outputs": [],
   "source": [
    "from scipy.spatial.distance import cdist\n",
    "\n",
    "# get similarities of professions to the female gender direction\n",
    "female_sim = []\n",
    "\n",
    "for professsion in remaining:\n",
    "    cos_sim = cdist(emb_model[professsion].reshape(1, -1), gender_direction.reshape(1, -1), 'cosine')\n",
    "    female_sim.append(cos_sim[0][0])\n"
   ]
  },
  {
   "cell_type": "code",
   "execution_count": null,
   "metadata": {},
   "outputs": [],
   "source": [
    "# make df \n",
    "df = pd.DataFrame({\n",
    " 'profession': remaining,\n",
    " 'female_sim': female_sim})\n",
    "df.head(5)"
   ]
  },
  {
   "attachments": {},
   "cell_type": "markdown",
   "metadata": {},
   "source": [
    "### Inspect professions\n",
    "* for this part we inspected the ranking of professions and made a decision boundary \n",
    "* subsequently this splitting was validated manually"
   ]
  },
  {
   "cell_type": "code",
   "execution_count": null,
   "metadata": {},
   "outputs": [],
   "source": [
    "# sort by similarity to female gender direction\n",
    "df.sort_values('female_sim')"
   ]
  },
  {
   "cell_type": "code",
   "execution_count": null,
   "metadata": {},
   "outputs": [],
   "source": [
    "df['female_skewed'] = df['female_sim'] < 0.917873 # decision boundary \n",
    "df.head(5)\n"
   ]
  },
  {
   "cell_type": "code",
   "execution_count": null,
   "metadata": {},
   "outputs": [],
   "source": [
    "print(f\"Number of female skewed professions {len(df[df['female_skewed']==True]['profession'].values)}\")\n",
    "print(f\"Number of male skewed professions {len(df[df['female_skewed']==False]['profession'].values)}\")"
   ]
  },
  {
   "cell_type": "code",
   "execution_count": null,
   "metadata": {},
   "outputs": [],
   "source": [
    "print(\"Female professions:\")\n",
    "print(df[df['female_skewed']==True]['profession'].values)"
   ]
  },
  {
   "cell_type": "code",
   "execution_count": null,
   "metadata": {},
   "outputs": [],
   "source": [
    "print(\"Male professions:\")\n",
    "print(df[df['female_skewed']==False]['profession'].values)"
   ]
  },
  {
   "cell_type": "code",
   "execution_count": null,
   "metadata": {},
   "outputs": [],
   "source": [
    "# add the female professions together with the professions from we already know the gender for (from winobias)\n",
    "female_professions = female_abc + list(df[df['female_skewed']==True]['profession'].values)\n",
    "male_professions = male_abc + list(df[df['female_skewed']==False]['profession'].values)"
   ]
  },
  {
   "cell_type": "code",
   "execution_count": null,
   "metadata": {},
   "outputs": [],
   "source": [
    "# save the two lists of professions \n",
    "with open(os.path.join(os.getcwd(),'data', 'abc_female.txt'),'w') as a:\n",
    "    a.write('\\n'.join(female_professions))\n",
    "\n",
    "with open(os.path.join(os.getcwd(),'data','abc_male.txt'),'w') as b:\n",
    "    b.write('\\n'.join(male_professions))"
   ]
  }
 ],
 "metadata": {
  "kernelspec": {
   "display_name": "Python 3 ",
   "language": "python",
   "name": "python3"
  },
  "language_info": {
   "codemirror_mode": {
    "name": "ipython",
    "version": 3
   },
   "file_extension": ".py",
   "mimetype": "text/x-python",
   "name": "python",
   "nbconvert_exporter": "python",
   "pygments_lexer": "ipython3",
   "version": "3.8.16"
  },
  "vscode": {
   "interpreter": {
    "hash": "767d51c1340bd893661ea55ea3124f6de3c7a262a8b4abca0554b478b1e2ff90"
   }
  }
 },
 "nbformat": 4,
 "nbformat_minor": 4
}
