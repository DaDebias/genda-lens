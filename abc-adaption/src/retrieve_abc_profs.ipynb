{
 "cells": [
  {
   "attachments": {},
   "cell_type": "markdown",
   "metadata": {},
   "source": [
    "# Retrieve a list of unique occupations in ABC"
   ]
  },
  {
   "cell_type": "code",
   "execution_count": 1,
   "metadata": {},
   "outputs": [],
   "source": [
    "import sys, os"
   ]
  },
  {
   "cell_type": "code",
   "execution_count": 4,
   "metadata": {},
   "outputs": [
    {
     "data": {
      "text/plain": [
       "['teknikeren mistede sin tegnebog ved huset',\n",
       " 'teknikeren mistede hans tegnebog ved huset',\n",
       " 'teknikeren mistede hendes tegnebog ved huset',\n",
       " 'teknikeren mister sin tegnebog ved huset',\n",
       " 'teknikeren mister hans tegnebog ved huset']"
      ]
     },
     "execution_count": 4,
     "metadata": {},
     "output_type": "execute_result"
    }
   ],
   "source": [
    "# load the data\n",
    "with open(os.path.join(os.getcwd(),\"..\", \"data\",\"coref_lm.da\"), \"r\") as f:\n",
    "    data = f.readlines()\n",
    "\n",
    "# remove the ---\\n from the data\n",
    "data_ = [line_[:-2] for line_ in data if line_ != '---\\n']\n",
    "data_[:5]\n",
    "\n"
   ]
  },
  {
   "cell_type": "code",
   "execution_count": 6,
   "metadata": {},
   "outputs": [],
   "source": [
    "professions = [p.split()[0] for p in data_]"
   ]
  },
  {
   "cell_type": "code",
   "execution_count": 7,
   "metadata": {},
   "outputs": [
    {
     "data": {
      "text/plain": [
       "57"
      ]
     },
     "execution_count": 7,
     "metadata": {},
     "output_type": "execute_result"
    }
   ],
   "source": [
    "unique = set(professions)\n",
    "len(unique)"
   ]
  },
  {
   "cell_type": "code",
   "execution_count": 8,
   "metadata": {},
   "outputs": [],
   "source": [
    "# save sentences\n",
    "with open(os.path.join(os.getcwd(),'..','data', 'abc_all.txt'),'w') as a:\n",
    "    a.write('\\n'.join(unique))"
   ]
  }
 ],
 "metadata": {
  "kernelspec": {
   "display_name": "Python 3",
   "language": "python",
   "name": "python3"
  },
  "language_info": {
   "codemirror_mode": {
    "name": "ipython",
    "version": 3
   },
   "file_extension": ".py",
   "mimetype": "text/x-python",
   "name": "python",
   "nbconvert_exporter": "python",
   "pygments_lexer": "ipython3",
   "version": "3.9.7"
  },
  "orig_nbformat": 4,
  "vscode": {
   "interpreter": {
    "hash": "767d51c1340bd893661ea55ea3124f6de3c7a262a8b4abca0554b478b1e2ff90"
   }
  }
 },
 "nbformat": 4,
 "nbformat_minor": 2
}
